{
 "cells": [
  {
   "cell_type": "markdown",
   "id": "82436e5a",
   "metadata": {},
   "source": [
    "# Data preprocessing"
   ]
  },
  {
   "cell_type": "code",
   "execution_count": 2,
   "id": "c28590f4",
   "metadata": {},
   "outputs": [
    {
     "name": "stderr",
     "output_type": "stream",
     "text": [
      "[nltk_data] Downloading package stopwords to /home/jds98/nltk_data...\n",
      "[nltk_data]   Package stopwords is already up-to-date!\n"
     ]
    }
   ],
   "source": [
    "import pandas as pd\n",
    "import numpy as np\n",
    "import matplotlib.pyplot as plt\n",
    "import seaborn as sns\n",
    "import statistics\n",
    "import string\n",
    "import os\n",
    "import re\n",
    "from textblob import TextBlob\n",
    "from wordcloud import STOPWORDS,WordCloud\n",
    "from sklearn.model_selection import train_test_split\n",
    "import gensim\n",
    "from gensim.models import CoherenceModel\n",
    "from gensim import corpora\n",
    "from pprint import pprint\n",
    "import pyLDAvis.gensim_models as gensimvis\n",
    "import pickle \n",
    "import pyLDAvis\n",
    "import warnings\n",
    "warnings.filterwarnings('ignore')\n",
    "from sklearn.preprocessing import LabelEncoder\n",
    "import nltk.corpus\n",
    "nltk.download('stopwords')\n",
    "from nltk.corpus import stopwords\n",
    "from sklearn.feature_extraction.text import TfidfVectorizer\n",
    "from sklearn.ensemble import RandomForestClassifier\n",
    "from sklearn.metrics import accuracy_score\n",
    "from sklearn.model_selection import cross_val_score\n",
    "from sklearn.model_selection import validation_curve\n",
    "from sklearn.model_selection import GridSearchCV\n",
    "from sklearn.metrics import confusion_matrix\n",
    "from sklearn.model_selection import learning_curve"
   ]
  },
  {
   "cell_type": "code",
   "execution_count": 3,
   "id": "5ebe4d54",
   "metadata": {},
   "outputs": [],
   "source": [
    "def read_data():\n",
    "    data = pd.read_csv('processed_tweet_data.csv')\n",
    "    df = data.copy()\n",
    "    df = df.drop(['place_coord_boundaries'], axis=1)\n",
    "    cleanTweet = pd.DataFrame(columns=['text','polarity'])\n",
    "    cleanTweet['text'] = df['cleaned_text'].to_list()\n",
    "    cleanTweet['polarity'] = df['polarity'].to_list()\n",
    "    def text_category(p):\n",
    "        if p < 0:\n",
    "            category = 'negative'\n",
    "        elif p == 0:\n",
    "            category = 'neutral'\n",
    "        else:\n",
    "            category = 'positive'\n",
    "        return category\n",
    "    polarities = [TextBlob(t).sentiment.polarity for t in df['original_text'].to_list()]\n",
    "    scores = [text_category(p) for p in polarities]\n",
    "    cleanTweet['scores'] = scores\n",
    "    scoremap = {'positive':1, 'negative':0} \n",
    "    cleanTweet['scoremap'] = cleanTweet['scores'].map(scoremap)\n",
    "    df['scores'] = cleanTweet['scoremap'].to_list()\n",
    "    df = df.loc[df['scores'].isna() == False]\n",
    "    df['scores'] = df['scores'].astype('int')\n",
    "    return df"
   ]
  },
  {
   "cell_type": "code",
   "execution_count": 4,
   "id": "16af84dd",
   "metadata": {},
   "outputs": [],
   "source": [
    "df = read_data()"
   ]
  },
  {
   "cell_type": "code",
   "execution_count": 5,
   "id": "dd76487c",
   "metadata": {},
   "outputs": [],
   "source": [
    "class PrepareData:\n",
    "    def __init__(self,df):\n",
    "        self.df=df\n",
    "        \n",
    "    def created_atProcess(self):\n",
    "        df['created_at'] = pd.to_datetime(df['created_at'])\n",
    "        df['time_hour'] = df.created_at.apply(lambda x: x.hour)\n",
    "        return df\n",
    "    \n",
    "    def clean_places(self)->list:\n",
    "        places = list(df['place'])\n",
    "        clean_text = []\n",
    "        for p in places:\n",
    "            new = p.lower()\n",
    "            new = re.sub(r\"(@\\[A-Za-z0-9]+)|([^0-9A-Za-z \\t])|(\\w+:\\/\\/\\S+)|^rt|http.+?\", \"\", new)\n",
    "            stop = stopwords.words('english')\n",
    "            new = \" \".join([word for word in new.split() if word not in (stop)])\n",
    "            clean_text.append(new)\n",
    "        df['place'] = clean_text\n",
    "        \n",
    "        return df\n",
    "    \n",
    "    def hashtagsProcess(self):\n",
    "        \n",
    "        def find_hashtags(text):\n",
    "            '''This function will extract hashtags'''\n",
    "            return re.findall('(#[A-Za-z]+[A-Za-z0-9-_]+)', text)\n",
    "        \n",
    "        # update Hashtage columon with hashtages extracted from Orignal_text columon\n",
    "        df['hashtags'] = df.original_text.apply(find_hashtags)\n",
    "        \n",
    "        # take the rows from the hashtag columns where there are actually hashtags\n",
    "        hashtags_list_df = df.loc[\n",
    "                               df.hashtags.apply(\n",
    "                                   lambda hashtags_list: hashtags_list !=[]\n",
    "                               ),['hashtags']]        \n",
    "        flattened_hashtags_df = pd.DataFrame(\n",
    "            [hashtag for hashtags_list in hashtags_list_df.hashtags\n",
    "            for hashtag in hashtags_list],\n",
    "            columns=['hashtag'])\n",
    "        \n",
    "        #add flatten_hashtags to tweet_df\n",
    "        df[\"flattened_hashtags\"]= flattened_hashtags_df\n",
    "        \n",
    "        return df\n",
    "    \n",
    "    def preprocess_data(self):\n",
    "\n",
    "        #text Preprocessing\n",
    "        df['cleaned_text'] = df['cleaned_text'].astype(str)\n",
    "        df['cleaned_text'] = df['cleaned_text'].apply(lambda x: x.translate(str.maketrans(' ', ' ', string.punctuation)))\n",
    "        \n",
    "        #Converting tweets to list of words For feature engineering\n",
    "        sentence_list = [tweet for tweet in df['cleaned_text']]\n",
    "        word_list = [sent.split() for sent in sentence_list]\n",
    "        \n",
    "        #Create dictionary which contains Id and word \n",
    "        word_to_id = corpora.Dictionary(word_list) #generate unique tokens\n",
    "        #  we can see the word to unique integer mapping\n",
    "        # print(word_to_id.token2id)\n",
    "        # using bag of words(bow), we create a corpus that contains the word id and its frequency in each document.\n",
    "        corpus_1= [word_to_id.doc2bow(tweet) for tweet in word_list]\n",
    "        # TFIDF\n",
    "\n",
    "        return word_list, word_to_id, corpus_1"
   ]
  },
  {
   "cell_type": "code",
   "execution_count": 6,
   "id": "39886d75",
   "metadata": {},
   "outputs": [],
   "source": [
    "PrepareData_obj = PrepareData(df)"
   ]
  },
  {
   "cell_type": "code",
   "execution_count": 7,
   "id": "eaf231a0",
   "metadata": {},
   "outputs": [],
   "source": [
    "df = PrepareData.hashtagsProcess(df)"
   ]
  },
  {
   "cell_type": "code",
   "execution_count": 8,
   "id": "abc17032",
   "metadata": {},
   "outputs": [],
   "source": [
    "word_list ,id2word,corpus=PrepareData_obj.preprocess_data()"
   ]
  },
  {
   "cell_type": "code",
   "execution_count": 9,
   "id": "2d8bf634",
   "metadata": {},
   "outputs": [],
   "source": [
    "id_words = [[(id2word[id], count) for id, count in line] for line in corpus]"
   ]
  },
  {
   "cell_type": "code",
   "execution_count": 10,
   "id": "39432daf",
   "metadata": {},
   "outputs": [],
   "source": [
    "df = PrepareData.created_atProcess(df)"
   ]
  },
  {
   "cell_type": "markdown",
   "id": "11c9fcd8",
   "metadata": {},
   "source": [
    "## Retain relevant features (fields) and processing continuation"
   ]
  },
  {
   "cell_type": "code",
   "execution_count": 11,
   "id": "4810930c",
   "metadata": {},
   "outputs": [],
   "source": [
    "df = df.drop(['created_at', 'source', 'original_text', 'sentiment', 'lang', 'hashtags', 'user_mentions'], axis=1)"
   ]
  },
  {
   "cell_type": "code",
   "execution_count": 12,
   "id": "0320876e",
   "metadata": {},
   "outputs": [
    {
     "data": {
      "text/plain": [
       "Index(['cleaned_text', 'polarity', 'subjectivity', 'favorite_count',\n",
       "       'retweet_count', 'original_author', 'screen_count', 'followers_count',\n",
       "       'friends_count', 'possibly_sensitive', 'place', 'statuses_count',\n",
       "       'scores', 'flattened_hashtags', 'time_hour'],\n",
       "      dtype='object')"
      ]
     },
     "execution_count": 12,
     "metadata": {},
     "output_type": "execute_result"
    }
   ],
   "source": [
    "df.columns"
   ]
  },
  {
   "cell_type": "markdown",
   "id": "893cfb20",
   "metadata": {},
   "source": [
    "## Data imputation and additional data transformation"
   ]
  },
  {
   "cell_type": "markdown",
   "id": "b94b8861",
   "metadata": {},
   "source": [
    "### Replace missing values with the most frequent value) : place and sensitivity are concerned"
   ]
  },
  {
   "cell_type": "code",
   "execution_count": 13,
   "id": "bc14e2ba",
   "metadata": {},
   "outputs": [],
   "source": [
    "df = df.fillna(df.mode().iloc[0])"
   ]
  },
  {
   "cell_type": "markdown",
   "id": "749dd0f5",
   "metadata": {},
   "source": [
    "### Working on place field"
   ]
  },
  {
   "cell_type": "code",
   "execution_count": 14,
   "id": "79992366",
   "metadata": {},
   "outputs": [],
   "source": [
    "df = PrepareData.clean_places(df)"
   ]
  },
  {
   "cell_type": "code",
   "execution_count": 15,
   "id": "505203ef",
   "metadata": {},
   "outputs": [
    {
     "data": {
      "text/plain": [
       "    545\n",
       "Name: place, dtype: int64"
      ]
     },
     "execution_count": 15,
     "metadata": {},
     "output_type": "execute_result"
    }
   ],
   "source": [
    "df['place'][df['place'] == ''].value_counts()"
   ]
  },
  {
   "cell_type": "code",
   "execution_count": 17,
   "id": "460debc9",
   "metadata": {},
   "outputs": [],
   "source": [
    "df['place'][df['place'] == ''] = None"
   ]
  },
  {
   "cell_type": "code",
   "execution_count": 18,
   "id": "c1a2fa09",
   "metadata": {},
   "outputs": [
    {
     "data": {
      "text/plain": [
       "545"
      ]
     },
     "execution_count": 18,
     "metadata": {},
     "output_type": "execute_result"
    }
   ],
   "source": [
    "df['place'].isna().sum()"
   ]
  },
  {
   "cell_type": "code",
   "execution_count": 19,
   "id": "ffccdbc5",
   "metadata": {},
   "outputs": [],
   "source": [
    "df = df.fillna(df.mode().iloc[0])"
   ]
  },
  {
   "cell_type": "markdown",
   "id": "85181aa9",
   "metadata": {},
   "source": [
    "### Encodage : flattened_hashtags, sensitivity, etc."
   ]
  },
  {
   "cell_type": "code",
   "execution_count": 20,
   "id": "b73618f5",
   "metadata": {},
   "outputs": [],
   "source": [
    "encoder = LabelEncoder()"
   ]
  },
  {
   "cell_type": "code",
   "execution_count": 21,
   "id": "02a4ac5d",
   "metadata": {},
   "outputs": [],
   "source": [
    "df['original_author'] = encoder.fit_transform(df['original_author'])\n",
    "lab_authors = encoder.inverse_transform(df['original_author'])\n",
    "df['possibly_sensitive'] = encoder.fit_transform(df['possibly_sensitive'])\n",
    "lab_sensitive = encoder.inverse_transform(df['possibly_sensitive'])\n",
    "df['place'] = encoder.fit_transform(df['place'])\n",
    "lab_place = encoder.inverse_transform(df['place'])\n",
    "df['flattened_hashtags'] = encoder.fit_transform(df['flattened_hashtags'])\n",
    "lab_hashtags = encoder.inverse_transform(df['flattened_hashtags'])"
   ]
  },
  {
   "cell_type": "code",
   "execution_count": 22,
   "id": "7f008ef6",
   "metadata": {},
   "outputs": [],
   "source": [
    "dic_authors = pd.DataFrame(data= {'Label': list(lab_authors), 'Code': list(df['original_author'])})\n",
    "dic_sensitve = pd.DataFrame(data= {'Label': list(lab_sensitive), 'Code': list(df['possibly_sensitive'])})\n",
    "dic_place = pd.DataFrame(data= {'Label': list(lab_place), 'Code': list(df['place'])})\n",
    "dic_hasgtags = pd.DataFrame(data= {'Label': list(lab_hashtags), 'Code': list(df['flattened_hashtags'])})"
   ]
  },
  {
   "cell_type": "markdown",
   "id": "10fdafa0",
   "metadata": {},
   "source": [
    "# Topic modeling"
   ]
  },
  {
   "cell_type": "code",
   "execution_count": 23,
   "id": "f72f3102",
   "metadata": {},
   "outputs": [],
   "source": [
    "# Build LDA model\n",
    "lda_model = gensim.models.ldamodel.LdaModel(corpus,\n",
    "                                           id2word=id2word,\n",
    "                                           num_topics=10, \n",
    "                                           random_state=100,\n",
    "                                           update_every=1,\n",
    "                                           chunksize=100,\n",
    "                                           passes=10,\n",
    "                                           alpha='auto',\n",
    "                                           per_word_topics=True)"
   ]
  },
  {
   "cell_type": "code",
   "execution_count": 24,
   "id": "0b53570e",
   "metadata": {},
   "outputs": [
    {
     "name": "stdout",
     "output_type": "stream",
     "text": [
      "[(0,\n",
      "  '0.068*\"amp\" + 0.026*\"fired\" + 0.018*\"check\" + 0.017*\"thing\" + '\n",
      "  '0.017*\"easily\" + 0.016*\"nigerians\" + 0.016*\"ashawo\" + 0.016*\"hundeyin\" + '\n",
      "  '0.016*\"balogun\" + 0.016*\"tafa\"'),\n",
      " (1,\n",
      "  '0.051*\"taiwan\" + 0.029*\"military\" + 0.028*\"foreign\" + 0.027*\"army\" + '\n",
      "  '0.026*\"around\" + 0.020*\"chinas\" + 0.019*\"peoples\" + 0.018*\"pla\" + '\n",
      "  '0.018*\"chinese\" + 0.018*\"united\"'),\n",
      " (2,\n",
      "  '0.088*\"called\" + 0.062*\"stop\" + 0.039*\"war\" + 0.027*\"via\" + 0.026*\"reuters\" '\n",
      "  '+ 0.020*\"china\" + 0.019*\"youtube\" + 0.016*\"asia\" + 0.015*\"make\" + '\n",
      "  '0.014*\"g7\"'),\n",
      " (3,\n",
      "  '0.092*\"taiwan\" + 0.040*\"china\" + 0.032*\"missile\" + 0.031*\"indopacinfo\" + '\n",
      "  '0.030*\"chinas\" + 0.021*\"us\" + 0.020*\"good\" + 0.019*\"launches\" + '\n",
      "  '0.019*\"infographic\" + 0.018*\"visit\"'),\n",
      " (4,\n",
      "  '0.067*\"spokespersonchn\" + 0.061*\"taiwan\" + 0.044*\"responsible\" + '\n",
      "  '0.039*\"showing\" + 0.037*\"wwiii\" + 0.034*\"statedept\" + 0.034*\"muscles\" + '\n",
      "  '0.034*\"stopped\" + 0.028*\"us\" + 0.027*\"true\"'),\n",
      " (5,\n",
      "  '0.125*\"taiwans\" + 0.071*\"island\" + 0.054*\"chinese\" + 0.043*\"indopacinfo\" + '\n",
      "  '0.043*\"military\" + 0.033*\"waters\" + 0.027*\"drones\" + 0.027*\"kinmen\" + '\n",
      "  '0.026*\"entered\" + 0.026*\"restricted\"'),\n",
      " (6,\n",
      "  '0.045*\"found\" + 0.045*\"dead\" + 0.043*\"hotel\" + 0.037*\"head\" + 0.033*\"maybe\" '\n",
      "  '+ 0.033*\"programme\" + 0.032*\"jenniferatntd\" + 0.023*\"taiwan\" + 0.019*\"new\" '\n",
      "  '+ 0.017*\"like\"'),\n",
      " (7,\n",
      "  '0.075*\"part\" + 0.070*\"taiwan\" + 0.053*\"country\" + 0.045*\"im\" + '\n",
      "  '0.044*\"government\" + 0.037*\"independent\" + 0.035*\"thought\" + 0.034*\"dont\" + '\n",
      "  '0.033*\"sorry\" + 0.032*\"fulliv\"'),\n",
      " (8,\n",
      "  '0.070*\"time\" + 0.069*\"minister\" + 0.047*\"china\" + 0.021*\"c\" + 0.021*\"great\" '\n",
      "  '+ 0.020*\"cgmeifangzhang\" + 0.020*\"5\" + 0.020*\"wu\" + 0.020*\"us\" + '\n",
      "  '0.019*\"region\"'),\n",
      " (9,\n",
      "  '0.181*\"august\" + 0.029*\"military\" + 0.023*\"going\" + 0.023*\"aircraft\" + '\n",
      "  '0.020*\"taiwan\" + 0.020*\"air\" + 0.015*\"peace\" + 0.014*\"get\" + '\n",
      "  '0.012*\"regional\" + 0.010*\"strike\"')]\n"
     ]
    }
   ],
   "source": [
    "pprint(lda_model.print_topics())"
   ]
  },
  {
   "cell_type": "code",
   "execution_count": 25,
   "id": "ba771924",
   "metadata": {},
   "outputs": [
    {
     "name": "stdout",
     "output_type": "stream",
     "text": [
      "[(0,\n",
      "  [('amp', 0.06777695),\n",
      "   ('fired', 0.026111634),\n",
      "   ('check', 0.018112741),\n",
      "   ('thing', 0.017155835),\n",
      "   ('easily', 0.0168146),\n",
      "   ('nigerians', 0.016111797),\n",
      "   ('ashawo', 0.016111797),\n",
      "   ('hundeyin', 0.016111797),\n",
      "   ('balogun', 0.016111797),\n",
      "   ('tafa', 0.016111797)]),\n",
      " (1,\n",
      "  [('taiwan', 0.050879728),\n",
      "   ('military', 0.028734328),\n",
      "   ('foreign', 0.028334502),\n",
      "   ('army', 0.02742082),\n",
      "   ('around', 0.026456382),\n",
      "   ('chinas', 0.020425873),\n",
      "   ('peoples', 0.018871896),\n",
      "   ('pla', 0.01842986),\n",
      "   ('chinese', 0.01814446),\n",
      "   ('united', 0.017891727)]),\n",
      " (2,\n",
      "  [('called', 0.08779829),\n",
      "   ('stop', 0.06158376),\n",
      "   ('war', 0.03862776),\n",
      "   ('via', 0.02677382),\n",
      "   ('reuters', 0.025603654),\n",
      "   ('china', 0.019617015),\n",
      "   ('youtube', 0.018687448),\n",
      "   ('asia', 0.01636551),\n",
      "   ('make', 0.015017206),\n",
      "   ('g7', 0.014480103)]),\n",
      " (3,\n",
      "  [('taiwan', 0.091738194),\n",
      "   ('china', 0.040424135),\n",
      "   ('missile', 0.03185704),\n",
      "   ('indopacinfo', 0.030795539),\n",
      "   ('chinas', 0.02991185),\n",
      "   ('us', 0.021179754),\n",
      "   ('good', 0.02040503),\n",
      "   ('launches', 0.01901618),\n",
      "   ('infographic', 0.018869275),\n",
      "   ('visit', 0.01770609)]),\n",
      " (4,\n",
      "  [('spokespersonchn', 0.067396834),\n",
      "   ('taiwan', 0.06113342),\n",
      "   ('responsible', 0.04352511),\n",
      "   ('showing', 0.038659584),\n",
      "   ('wwiii', 0.03673459),\n",
      "   ('statedept', 0.034035113),\n",
      "   ('muscles', 0.03384858),\n",
      "   ('stopped', 0.033629328),\n",
      "   ('us', 0.028251462),\n",
      "   ('true', 0.026940346)]),\n",
      " (5,\n",
      "  [('taiwans', 0.12493854),\n",
      "   ('island', 0.07124148),\n",
      "   ('chinese', 0.05441643),\n",
      "   ('indopacinfo', 0.04311522),\n",
      "   ('military', 0.042756513),\n",
      "   ('waters', 0.033423025),\n",
      "   ('drones', 0.026896577),\n",
      "   ('kinmen', 0.026661765),\n",
      "   ('entered', 0.02647656),\n",
      "   ('restricted', 0.026303364)]),\n",
      " (6,\n",
      "  [('found', 0.044743184),\n",
      "   ('dead', 0.044529706),\n",
      "   ('hotel', 0.04306946),\n",
      "   ('head', 0.037080225),\n",
      "   ('maybe', 0.033443857),\n",
      "   ('programme', 0.03300968),\n",
      "   ('jenniferatntd', 0.03232738),\n",
      "   ('taiwan', 0.022876935),\n",
      "   ('new', 0.018843858),\n",
      "   ('like', 0.017074304)]),\n",
      " (7,\n",
      "  [('part', 0.075345725),\n",
      "   ('taiwan', 0.07036773),\n",
      "   ('country', 0.053204715),\n",
      "   ('im', 0.044999547),\n",
      "   ('government', 0.043753844),\n",
      "   ('independent', 0.036664315),\n",
      "   ('thought', 0.035389118),\n",
      "   ('dont', 0.03351437),\n",
      "   ('sorry', 0.0325075),\n",
      "   ('fulliv', 0.032162976)]),\n",
      " (8,\n",
      "  [('time', 0.06981848),\n",
      "   ('minister', 0.0689877),\n",
      "   ('china', 0.04728947),\n",
      "   ('c', 0.02127825),\n",
      "   ('great', 0.020957006),\n",
      "   ('cgmeifangzhang', 0.020429078),\n",
      "   ('5', 0.020182244),\n",
      "   ('wu', 0.020154493),\n",
      "   ('us', 0.01969631),\n",
      "   ('region', 0.019315984)]),\n",
      " (9,\n",
      "  [('august', 0.1807434),\n",
      "   ('military', 0.02872317),\n",
      "   ('going', 0.023111954),\n",
      "   ('aircraft', 0.022601644),\n",
      "   ('taiwan', 0.020437626),\n",
      "   ('air', 0.020030094),\n",
      "   ('peace', 0.015350325),\n",
      "   ('get', 0.013698651),\n",
      "   ('regional', 0.012280683),\n",
      "   ('strike', 0.010123964)])]\n"
     ]
    }
   ],
   "source": [
    "pprint(lda_model.show_topics(formatted=False))"
   ]
  },
  {
   "cell_type": "markdown",
   "id": "5a24636e",
   "metadata": {},
   "source": [
    "## Model Analysis"
   ]
  },
  {
   "cell_type": "code",
   "execution_count": 26,
   "id": "d189f3e5",
   "metadata": {},
   "outputs": [
    {
     "name": "stdout",
     "output_type": "stream",
     "text": [
      "\n",
      "Perplexity:  -8.58264322832119\n",
      "\n",
      " Ldamodel Coherence Score/Accuracy on Tweets:  0.36216942850149764\n"
     ]
    }
   ],
   "source": [
    "# Compute Perplexity\n",
    "\n",
    "#It's a measure of how good the model is. The lower the better. Perplexity is a negative value\n",
    "print('\\nPerplexity: ', lda_model.log_perplexity(corpus))  \n",
    "doc_lda = lda_model[corpus]\n",
    "\n",
    "\n",
    "# Compute Coherence Score\n",
    "coherence_model_lda = CoherenceModel(model=lda_model, texts=word_list, dictionary=id2word, coherence='c_v')\n",
    "coherence_lda = coherence_model_lda.get_coherence()\n",
    "print('\\n Ldamodel Coherence Score/Accuracy on Tweets: ', coherence_lda)"
   ]
  },
  {
   "cell_type": "markdown",
   "id": "7e5bd10b",
   "metadata": {},
   "source": [
    "## Visualize the topics"
   ]
  },
  {
   "cell_type": "code",
   "execution_count": 28,
   "id": "d52243f5",
   "metadata": {},
   "outputs": [],
   "source": [
    "pyLDAvis.enable_notebook()\n",
    "\n",
    "LDAvis_prepared = gensimvis.prepare(lda_model, corpus, id2word)\n",
    "pyLDAvis.save_html(LDAvis_prepared, 'lda_result.html')"
   ]
  },
  {
   "cell_type": "markdown",
   "id": "cf20affb",
   "metadata": {},
   "source": [
    "# Sentiment Analysis"
   ]
  },
  {
   "cell_type": "markdown",
   "id": "3dc101a2",
   "metadata": {},
   "source": [
    "### Vectorization"
   ]
  },
  {
   "cell_type": "markdown",
   "id": "3038b6ed",
   "metadata": {},
   "source": [
    "We’re going to use the LDA model to grab the distribution of the top 10 topics in the tweets. This 10-vector will be our feature vector for supervised classification, with the supervised learning goal being to determine positive or negative sentiment."
   ]
  },
  {
   "cell_type": "code",
   "execution_count": 29,
   "id": "9a2241be",
   "metadata": {},
   "outputs": [],
   "source": [
    "processed_text = df['cleaned_text']"
   ]
  },
  {
   "cell_type": "code",
   "execution_count": 30,
   "id": "7c5aa263",
   "metadata": {},
   "outputs": [],
   "source": [
    "vecs = []\n",
    "for i in range(len(processed_text)):\n",
    "    top_topics = lda_model.get_document_topics(corpus[i], minimum_probability=0.0)\n",
    "    topic_vec = [top_topics[i][1] for i in range(10)]\n",
    "    vecs.append(topic_vec)"
   ]
  },
  {
   "cell_type": "code",
   "execution_count": 31,
   "id": "fe2036e2",
   "metadata": {},
   "outputs": [],
   "source": [
    "X = vecs\n",
    "y = df['scores']"
   ]
  },
  {
   "cell_type": "markdown",
   "id": "d7518a9d",
   "metadata": {},
   "source": [
    "### Use train_test_split function to construct (X_train, y_train) and (X_test, y_test) from (X,y)"
   ]
  },
  {
   "cell_type": "code",
   "execution_count": 32,
   "id": "e32bd127",
   "metadata": {},
   "outputs": [],
   "source": [
    "X_train, X_test, y_train, y_test = train_test_split(X, y, test_size=0.2, random_state=0)"
   ]
  },
  {
   "cell_type": "code",
   "execution_count": 33,
   "id": "4aa140c7",
   "metadata": {},
   "outputs": [
    {
     "data": {
      "text/plain": [
       "RandomForestClassifier(n_estimators=200, random_state=0)"
      ]
     },
     "execution_count": 33,
     "metadata": {},
     "output_type": "execute_result"
    }
   ],
   "source": [
    "model = RandomForestClassifier(n_estimators=200, random_state=0)\n",
    "model.fit(X_train, y_train)"
   ]
  },
  {
   "cell_type": "code",
   "execution_count": 34,
   "id": "53bb2345",
   "metadata": {},
   "outputs": [
    {
     "name": "stdout",
     "output_type": "stream",
     "text": [
      "train score: 1.0\n",
      "test score: 0.9004994237418363\n"
     ]
    }
   ],
   "source": [
    "print('train score:', model.score(X_train, y_train))\n",
    "print('test score:', model.score(X_test, y_test))"
   ]
  },
  {
   "cell_type": "markdown",
   "id": "9f835481",
   "metadata": {},
   "source": [
    "### Note: Probable futur performance is 90%"
   ]
  },
  {
   "cell_type": "markdown",
   "id": "81d96e70",
   "metadata": {},
   "source": [
    "## Predictions"
   ]
  },
  {
   "cell_type": "code",
   "execution_count": 35,
   "id": "7a04d8f9",
   "metadata": {},
   "outputs": [],
   "source": [
    "predictions = model.predict(X_test)"
   ]
  },
  {
   "cell_type": "code",
   "execution_count": 36,
   "id": "e31c388f",
   "metadata": {},
   "outputs": [
    {
     "data": {
      "text/plain": [
       "array([1, 1, 0, 1, 0, 1, 0, 1, 1, 1])"
      ]
     },
     "execution_count": 36,
     "metadata": {},
     "output_type": "execute_result"
    }
   ],
   "source": [
    "predictions[:10]"
   ]
  },
  {
   "cell_type": "markdown",
   "id": "bc0f06e1",
   "metadata": {},
   "source": [
    "## Confusion matrix"
   ]
  },
  {
   "cell_type": "code",
   "execution_count": 40,
   "id": "e72313a9",
   "metadata": {},
   "outputs": [
    {
     "data": {
      "image/png": "[encoded data removed]",
      "text/plain": [
       "<Figure size 432x288 with 2 Axes>"
      ]
     },
     "metadata": {
      "needs_background": "light"
     },
     "output_type": "display_data"
    }
   ],
   "source": [
    "plt.figure()\n",
    "sns.heatmap(confusion_matrix(y_test, model.predict(X_test)), annot=True, fmt='d')\n",
    "plt.savefig('confusion matrix.png')"
   ]
  },
  {
   "cell_type": "code",
   "execution_count": 38,
   "id": "98618961",
   "metadata": {},
   "outputs": [
    {
     "name": "stdout",
     "output_type": "stream",
     "text": [
      "0.8268839103869654\n",
      "0.9450956199876619\n"
     ]
    }
   ],
   "source": [
    "print(812/982)\n",
    "print(1532/1621)"
   ]
  },
  {
   "cell_type": "markdown",
   "id": "2fa7fcdb",
   "metadata": {},
   "source": [
    "### Note: The model as well predict 82.69% of the negative sentiments and 94.5% of the positive sentiments"
   ]
  },
  {
   "cell_type": "markdown",
   "id": "81115330",
   "metadata": {},
   "source": [
    "## Learning curve"
   ]
  },
  {
   "cell_type": "code",
   "execution_count": 39,
   "id": "9d7f287a",
   "metadata": {},
   "outputs": [
    {
     "name": "stdout",
     "output_type": "stream",
     "text": [
      "[ 832 1665 2498 3331 4164 4997 5830 6663 7496 8329]\n"
     ]
    },
    {
     "data": {
      "image/png": "[encoded data removed]",
      "text/plain": [
       "<Figure size 432x288 with 1 Axes>"
      ]
     },
     "metadata": {
      "needs_background": "light"
     },
     "output_type": "display_data"
    }
   ],
   "source": [
    "N, train_score, val_score = learning_curve(model, X_train, y_train,\n",
    "                                           train_sizes=np.linspace(0.1, 1, 10), cv=5)\n",
    "\n",
    "print(N)\n",
    "plt.figure()\n",
    "plt.plot(N, train_score.mean(axis=1), label='train')\n",
    "plt.plot(N, val_score.mean(axis=1), label='validation')\n",
    "plt.xlabel('train_sizes')\n",
    "plt.legend()\n",
    "plt.savefig('learning curve.png')"
   ]
  }
 ],
 "metadata": {
  "kernelspec": {
   "display_name": "Python 3 (ipykernel)",
   "language": "python",
   "name": "python3"
  },
  "language_info": {
   "codemirror_mode": {
    "name": "ipython",
    "version": 3
   },
   "file_extension": ".py",
   "mimetype": "text/x-python",
   "name": "python",
   "nbconvert_exporter": "python",
   "pygments_lexer": "ipython3",
   "version": "3.9.7"
  }
 },
 "nbformat": 4,
 "nbformat_minor": 5
}
